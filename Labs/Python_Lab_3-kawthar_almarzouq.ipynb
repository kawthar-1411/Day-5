{
 "cells": [
  {
   "cell_type": "markdown",
   "metadata": {},
   "source": [
    "# Python_Lab_3\n"
   ]
  },
  {
   "cell_type": "markdown",
   "metadata": {},
   "source": [
    "### Task 1\n",
    "- Write a function named **'create_student_records'** that takes a list of tuples. Each tuple contains a student's name and their scores in three subjects. The function should return a list of dictionaries, where each dictionary represents a student with keys: name, subject1, subject2, subject3. Use list comprehension to create the list of dictionaries."
   ]
  },
  {
   "cell_type": "code",
   "execution_count": 56,
   "metadata": {},
   "outputs": [
    {
     "name": "stdout",
     "output_type": "stream",
     "text": [
      "[{'kawthar': ('kawthar', 100, 99, 98)}]\n"
     ]
    }
   ],
   "source": [
    "def create_student_records(list_tuple):\n",
    "    \n",
    "    new_list=[{i[0]:i for i in list_tuple }]\n",
    "    \n",
    "    return(new_list)\n",
    "\n",
    "print(create_student_records([('kawthar',100,99,98)]))\n",
    "\n"
   ]
  },
  {
   "cell_type": "markdown",
   "metadata": {},
   "source": [
    "### Task 2\n",
    "- Write a function named **'filter_and_sort_students'** that takes the list of dictionaries from Question 1 and returns a sorted list of student names who have an average score of 80 or more across all subjects. Sort the names in alphabetical order."
   ]
  },
  {
   "cell_type": "code",
   "execution_count": 124,
   "metadata": {},
   "outputs": [
    {
     "name": "stdout",
     "output_type": "stream",
     "text": [
      "[('kawthar', 99.33333333333333), ('suha', 83.33333333333333)]\n"
     ]
    }
   ],
   "source": [
    "def filter_and_sort_students(new_list):\n",
    "    temp=0\n",
    "    average_list=[]\n",
    "    name_list=[]\n",
    "    temp_average_list=[]\n",
    "    temp_name_list=[]\n",
    "    final_list2=[]\n",
    "    temp_list_str2=[]\n",
    "    for i in new_list:\n",
    "        dic=i\n",
    "        for k,j in dic.items():\n",
    "            average=0\n",
    "            str_temp=\"\"\n",
    "            temp=0\n",
    "            for s in j:\n",
    "                if type(s) is str:\n",
    "                    str_temp=s\n",
    "                    \n",
    "                if type(s) is int:\n",
    "                    temp+=s\n",
    "            average=temp/3\n",
    "            \n",
    "        average_list.append(average)\n",
    "        name_list.append(str_temp)\n",
    "\n",
    "    final_list=list(zip(name_list,average_list))\n",
    "    for k in final_list:\n",
    "        for v in k:\n",
    "            if type(v) is str:\n",
    "                temp_str2=v\n",
    "            if type(v) is not str and v>=80:\n",
    "                final_list2.append(v)\n",
    "                temp_list_str2.append(temp_str2)\n",
    "    final=zip(temp_list_str2,final_list2)            \n",
    "    print(sorted(final))\n",
    "    \n",
    "    \n",
    "\n",
    "    \n",
    "      \n",
    "                 \n",
    "filter_and_sort_students([{'kawthar': ('kawthar', 100, 100, 98)},{'suha': ('suha', 80, 100, 70)},{'salma': ('salma', 60, 70, 70)}]) "
   ]
  },
  {
   "cell_type": "markdown",
   "metadata": {},
   "source": [
    "### Task 3\n",
    "- Write a function named **'get_product_info'** that prompts the user to enter information about a product. The function should ask for the product name, product price, and product quantity. If the user enters an invalid input (e.g., a non-numeric value for the price or quantity), the function should handle the error and prompt the user to enter the value again. Return a dictionary containing the product information."
   ]
  },
  {
   "cell_type": "code",
   "execution_count": 114,
   "metadata": {},
   "outputs": [
    {
     "name": "stdin",
     "output_type": "stream",
     "text": [
      "please enter the product name m\n",
      "please enter the product price 5\n",
      "please enter the product quantity 6\n"
     ]
    },
    {
     "name": "stdout",
     "output_type": "stream",
     "text": [
      "{'m': [5, 6]}\n"
     ]
    }
   ],
   "source": [
    "def get_product_info(product_name,product_price,product_quantity):\n",
    "    return {product_name:[product_price,product_quantity]}\n",
    "product_name=input('please enter the product name')\n",
    "try:\n",
    "    \n",
    "    product_price=int(input('please enter the product price'))\n",
    "    \n",
    "except:\n",
    "    product_price=int(input('sorry , wrong input please enter the product price again'))\n",
    "\n",
    "\n",
    "try:\n",
    "    product_quantity=int(input('please enter the product quantity'))\n",
    "\n",
    "except:\n",
    "    product_quantity=int(input('sorry , wrong input please enter the product quantity again'))\n",
    "\n",
    "print(get_product_info(product_name,product_price,product_quantity))\n",
    "    \n"
   ]
  },
  {
   "cell_type": "markdown",
   "metadata": {},
   "source": [
    "### Task 4\n",
    "- Write a function named **'get_even_numbers'** that takes a list of integers and returns a list of even numbers using list comprehension."
   ]
  },
  {
   "cell_type": "code",
   "execution_count": 1,
   "metadata": {},
   "outputs": [
    {
     "name": "stdout",
     "output_type": "stream",
     "text": [
      "[10, 20, 40]\n"
     ]
    }
   ],
   "source": [
    "def get_even_numbers (integer_list):\n",
    "    even_number=[i for i in integer_list if i%2==0]\n",
    "    return  even_number\n",
    "print (get_even_numbers ([5,10,15,20,39,40]))"
   ]
  },
  {
   "cell_type": "markdown",
   "metadata": {},
   "source": [
    "### Task 5\n",
    "- Write a function named **'pair_elements'** that takes two lists of equal length as parameters and returns a list of tuples, where each tuple contains corresponding elements from the two lists. Use the zip function to achieve this."
   ]
  },
  {
   "cell_type": "markdown",
   "metadata": {},
   "source": []
  },
  {
   "cell_type": "code",
   "execution_count": 3,
   "metadata": {},
   "outputs": [
    {
     "name": "stdout",
     "output_type": "stream",
     "text": [
      "[(1, 3), (4, 6), (7, 9), (9, 6)]\n"
     ]
    }
   ],
   "source": [
    "def pair_elements(list1,list2):\n",
    "    return list(zip(list1,list2))\n",
    "\n",
    "print(pair_elements([1,4,7,9],[3,6,9,6]))"
   ]
  },
  {
   "cell_type": "markdown",
   "metadata": {},
   "source": [
    "### Task 6\n",
    "- Write a function named **'square_dict_lambda'** that takes a list of integers and returns a dictionary where the keys are the integers and the values are their squares. Use a lambda function within a dictionary comprehension to achieve this."
   ]
  },
  {
   "cell_type": "code",
   "execution_count": 4,
   "metadata": {},
   "outputs": [
    {
     "name": "stdout",
     "output_type": "stream",
     "text": [
      "{6: 36, 8: 64, 10: 100, 15: 225, 9: 81, 5: 25}\n"
     ]
    }
   ],
   "source": [
    "square_dict=lambda list_integer:{i:i**2 for i in list_integer }\n",
    "print(square_dict([6,8,10,15,9,5]))"
   ]
  },
  {
   "cell_type": "code",
   "execution_count": null,
   "metadata": {},
   "outputs": [],
   "source": []
  }
 ],
 "metadata": {
  "kernelspec": {
   "display_name": "Python 3 (ipykernel)",
   "language": "python",
   "name": "python3"
  },
  "language_info": {
   "codemirror_mode": {
    "name": "ipython",
    "version": 3
   },
   "file_extension": ".py",
   "mimetype": "text/x-python",
   "name": "python",
   "nbconvert_exporter": "python",
   "pygments_lexer": "ipython3",
   "version": "3.12.4"
  }
 },
 "nbformat": 4,
 "nbformat_minor": 4
}
