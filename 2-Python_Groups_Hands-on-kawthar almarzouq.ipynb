{
 "cells": [
  {
   "cell_type": "markdown",
   "metadata": {
    "id": "kZXiW0-J0-2x"
   },
   "source": [
    "# Python_Groups_Hands-on\n"
   ]
  },
  {
   "cell_type": "markdown",
   "metadata": {
    "id": "I05A6_S80-2y"
   },
   "source": [
    "## Project: Library Management System\n",
    "### Description:\n",
    "- Develop a basic Library Management System (LMS) that allows users to manage book records, including adding, updating, deleting, and displaying book information. The system should also provide basic statistical analysis.\n",
    "\n",
    "### System requirements:\n",
    "\n",
    "#### Data Structure Design:\n",
    "\n",
    "  - Define data structures using lists, tuples, dictionaries, and sets to store book information (e.g., book ID, title, author, year, genres).\n",
    "\n",
    "#### Basic Operations:\n",
    "\n",
    "- Implement functions to add, update, delete, and display book records.\n",
    "- Ensure proper type conversion and validation of inputs.\n",
    "\n",
    "#### Statistical Analysis:\n",
    "\n",
    "- Write functions to calculate and display the total number of books, the average publication year, and the most common genre.\n",
    "- Use list comprehensions and built-in functions (sort, len, zip, range) for calculations.\n",
    "\n",
    "#### Advanced Features:\n",
    "\n",
    "- Implement search functionality to find books by title or author using lambda functions.\n",
    "- Provide sorting options for book records based on different criteria (e.g., title, year).\n",
    "\n",
    "\n",
    "#### Exception Handling:\n",
    "\n",
    "- Handle potential errors (e.g., invalid input) using try-except blocks."
   ]
  },
  {
   "cell_type": "markdown",
   "metadata": {
    "id": "rXuH9y0_D76o"
   },
   "source": [
    "#### Q1: Using the following table, create a function to add these books to your library:\n",
    "\n",
    "\n",
    "\n",
    "| Book ID | Title                            | Author               | Year | Genres                              |\n",
    "|---------|----------------------------------|----------------------|------|-------------------------------------|\n",
    "| 1       | Harry Potter and the Sorcerer's Stone | J.K. Rowling         | 1997 | Fantasy, Young Adult                |\n",
    "| 2       | To Kill a Mockingbird             | Harper Lee           | 1960 | Fiction, Classics                   |\n",
    "| 3       | The Great Gatsby                  | F. Scott Fitzgerald  | 1925 | Fiction, Classics                   |\n",
    "| 4       | 1984                              | George Orwell        | 1949 | Fiction, Dystopian                  |\n",
    "| 5       | The Catcher in the Rye            | J.D. Salinger        | 1951 | Fiction, Classics                   |\n",
    "| 6       | Pride and Prejudice               | Jane Austen          | 1813 | Fiction, Romance, Classics          |\n",
    "| 7       | The Hobbit                        | J.R.R. Tolkien       | 1937 | Fantasy, Adventure                  |\n",
    "| 8       | The Hunger Games                  | Suzanne Collins      | 2008 | Science Fiction, Dystopian, Young Adult |\n",
    "| 9       | The Da Vinci Code                 | Dan Brown            | 2003 | Mystery, Thriller                   |\n",
    "| 10      | The Chronicles of Narnia          | C.S. Lewis           | 1950 | Fantasy, Children's Literature      |\n",
    "| 11      | Gone with the Wind                | Margaret Mitchell    | 1936 | Historical Fiction, Romance         |\n",
    "| 12      | Sapiens: A Brief History of Humankind | Yuval Noah Harari   | 2011 | Nonfiction, History, Science        |\n",
    "| 13      | The Road                          | Cormac McCarthy      | 2006 | Fiction, Post-Apocalyptic           |\n",
    "| 14      | The Girl with the Dragon Tattoo   | Stieg Larsson        | 2005 | Mystery, Thriller                   |\n",
    "| 15      | The Alchemist                     | Paulo Coelho         | 1988 | Fiction, Inspirational              |\n"
   ]
  },
  {
   "cell_type": "code",
   "execution_count": 45,
   "metadata": {
    "id": "BzV_B_g20-2z"
   },
   "outputs": [],
   "source": [
    "# write your code here ^_^\n",
    "book_store={\n",
    "    'Book ID': [1, 2, 3, 4, 5, 6, 7, 8, 9, 10, 11, 12, 13, 14, 15,16],\n",
    "    'Title': [\n",
    "        \"Harry Potter and the Sorcerer's Stone\", \"Harry Potter and the Sorcerer's Stone\",'To Kill a Mockingbird', 'The Great Gatsby', '1984',\n",
    "        'The Catcher in the Rye', 'Pride and Prejudice', 'The Hobbit', 'The Hunger Games',\n",
    "        'The Da Vinci Code', 'The Chronicles of Narnia', 'Gone with the Wind',\n",
    "        'Sapiens: A Brief History of Humankind', 'The Road', 'The Girl with the Dragon Tattoo', 'The Alchemist'\n",
    "    ],\n",
    "    'Author': [\n",
    "        'J.K. Rowling', 'J.K. Rowling','Harper Lee', 'F. Scott Fitzgerald', 'George Orwell', 'J.D. Salinger', 'Jane Austen',\n",
    "        'J.R.R. Tolkien', 'Suzanne Collins', 'Dan Brown', 'C.S. Lewis', 'Margaret Mitchell',\n",
    "        'Yuval Noah Harari', 'Cormac McCarthy', 'Stieg Larsson', 'Paulo Coelho'\n",
    "    ],\n",
    "    'Year': [1997, 1960, 1925, 1949, 1951, 1813, 1937, 2008, 2003, 1950, 1936, 2011, 2006, 2005, 1988,1988],\n",
    "    'Genres': [\n",
    "        'Fantasy, Young Adult', 'Fantasy, Young Adult','Fiction, Classics', 'Fiction, Classics', 'Fiction, Dystopian', 'Fiction, Classics',\n",
    "        'Fiction, Romance, Classics', 'Fantasy, Adventure', 'Science Fiction, Dystopian, Young Adult',\n",
    "        'Mystery, Thriller', \"Fantasy, Children's Literature\", 'Historical Fiction, Romance',\n",
    "        'Nonfiction, History, Science', 'Fiction, Post-Apocalyptic', 'Mystery, Thriller', 'Fiction, Inspirational'\n",
    "    ]\n",
    "}\n",
    "\n"
   ]
  },
  {
   "cell_type": "markdown",
   "metadata": {
    "id": "kR5bvgOsF3oJ"
   },
   "source": [
    "#### Q2: Create a function that updates books exsisted in your library and test it.\n",
    "- **Note**: If the user entered wrong book ID it should print \"Book with ID 'num' does not exist."
   ]
  },
  {
   "cell_type": "code",
   "execution_count": 49,
   "metadata": {
    "id": "U60cFkbUUYmj"
   },
   "outputs": [
    {
     "name": "stdin",
     "output_type": "stream",
     "text": [
      "Please enter the Book ID  1\n",
      "Please enter the new Title  v\n",
      "Please enter the new Author  v\n",
      "Please enter the new Year  1991\n",
      "Please enter the new Genres  b\n"
     ]
    },
    {
     "name": "stdout",
     "output_type": "stream",
     "text": [
      "{'Book ID': [1, 2, 3, 4, 5, 6, 7, 8, 9, 10, 11, 12, 13, 14, 15, 16], 'Title': ['v', \"Harry Potter and the Sorcerer's Stone\", 'To Kill a Mockingbird', 'The Great Gatsby', '1984', 'The Catcher in the Rye', 'k', 'The Hobbit', 'The Hunger Games', 'The Da Vinci Code', 'The Chronicles of Narnia', 'Gone with the Wind', 'Sapiens: A Brief History of Humankind', 'The Road', 'The Girl with the Dragon Tattoo', 'The Alchemist'], 'Author': ['v', 'J.K. Rowling', 'Harper Lee', 'F. Scott Fitzgerald', 'George Orwell', 'J.D. Salinger', 'v', 'J.R.R. Tolkien', 'Suzanne Collins', 'Dan Brown', 'C.S. Lewis', 'Margaret Mitchell', 'Yuval Noah Harari', 'Cormac McCarthy', 'Stieg Larsson', 'Paulo Coelho'], 'Year': [1991, 1960, 1925, 1949, 1951, 1813, 1991, 2008, 2003, 1950, 1936, 2011, 2006, 2005, 1988, 1988], 'Genres': ['b', 'Fantasy, Young Adult', 'Fiction, Classics', 'Fiction, Classics', 'Fiction, Dystopian', 'Fiction, Classics', 'u', 'Fantasy, Adventure', 'Science Fiction, Dystopian, Young Adult', 'Mystery, Thriller', \"Fantasy, Children's Literature\", 'Historical Fiction, Romance', 'Nonfiction, History, Science', 'Fiction, Post-Apocalyptic', 'Mystery, Thriller', 'Fiction, Inspirational']}\n"
     ]
    }
   ],
   "source": [
    "# write your code here ^_^\n",
    "def update_book(book_id, new_title=None, new_author=None, new_year=None, new_genres=None):\n",
    " for keys,values in book_store.items():\n",
    "  if book_id in values:\n",
    "    position_of_book = values.index(book_id)\n",
    "    book_store['Title'][position_of_book] = new_title\n",
    "    book_store['Author'][position_of_book] = new_author\n",
    "    book_store['Year'][position_of_book] = new_year\n",
    "    book_store['Genres'][position_of_book] = new_genres\n",
    "  else:\n",
    "    print(\"book not exist\")\n",
    "    break\n",
    "  return book_store\n",
    "\n",
    "\n",
    "try:\n",
    " book_id = int(input(\"Please enter the Book ID \"))\n",
    " new_title = input(\"Please enter the new Title \")\n",
    " new_author = input(\"Please enter the new Author \")\n",
    " new_year = int(input(\"Please enter the new Year \"))\n",
    " new_genres = input(\"Please enter the new Genres \")\n",
    "except:\n",
    "  print(\"Please make sure you enter the right information\")\n",
    "else:\n",
    "  print(update_book(book_id, new_title, new_author, new_year, new_genres))\n"
   ]
  },
  {
   "cell_type": "markdown",
   "metadata": {
    "id": "ME3j_m-eLhyH"
   },
   "source": [
    "#### Q3: Create a function to delete books from your library and test it."
   ]
  },
  {
   "cell_type": "code",
   "execution_count": 10,
   "metadata": {
    "id": "JlGIx-gJUadK"
   },
   "outputs": [
    {
     "name": "stdin",
     "output_type": "stream",
     "text": [
      "Please enter the Book ID  1\n"
     ]
    },
    {
     "name": "stdout",
     "output_type": "stream",
     "text": [
      "{'Book ID': [2, 3, 4, 5, 6, 7, 8, 9, 10, 11, 12, 13, 14, 15, 16], 'Title': [\"Harry Potter and the Sorcerer's Stone\", 'To Kill a Mockingbird', 'The Great Gatsby', '1984', 'The Catcher in the Rye', 'Pride and Prejudice', 'The Hobbit', 'The Hunger Games', 'The Da Vinci Code', 'The Chronicles of Narnia', 'Gone with the Wind', 'Sapiens: A Brief History of Humankind', 'The Road', 'The Girl with the Dragon Tattoo', 'The Alchemist'], 'Author': ['J.K. Rowling', 'Harper Lee', 'F. Scott Fitzgerald', 'George Orwell', 'J.D. Salinger', 'Jane Austen', 'J.R.R. Tolkien', 'Suzanne Collins', 'Dan Brown', 'C.S. Lewis', 'Margaret Mitchell', 'Yuval Noah Harari', 'Cormac McCarthy', 'Stieg Larsson', 'Paulo Coelho'], 'Year': [1960, 1925, 1949, 1951, 1813, 1937, 2008, 2003, 1950, 1936, 2011, 2006, 2005, 1988, 1988], 'Genres': ['Fantasy, Young Adult', 'Fiction, Classics', 'Fiction, Classics', 'Fiction, Dystopian', 'Fiction, Classics', 'Fiction, Romance, Classics', 'Fantasy, Adventure', 'Science Fiction, Dystopian, Young Adult', 'Mystery, Thriller', \"Fantasy, Children's Literature\", 'Historical Fiction, Romance', 'Nonfiction, History, Science', 'Fiction, Post-Apocalyptic', 'Mystery, Thriller', 'Fiction, Inspirational']}\n"
     ]
    }
   ],
   "source": [
    "# write your code here ^_^\n",
    "def delete_book(book_id):\n",
    " for keys,values in book_store.items():\n",
    "  if book_id in values:\n",
    "    position_of_book = values.index(book_id)\n",
    "    book_store['Book ID'].pop(position_of_book)\n",
    "    book_store['Title'].pop(position_of_book)\n",
    "    book_store['Author'].pop(position_of_book)\n",
    "    book_store['Year'].pop(position_of_book)\n",
    "    book_store['Genres'].pop(position_of_book)\n",
    "    return book_store\n",
    "  else:\n",
    "    print(\"book not exist\")\n",
    "    break\n",
    "\n",
    "try:\n",
    " book_id = int(input(\"Please enter the Book ID \"))\n",
    "except:\n",
    "  print(\"Please make sure you enter the right information\")\n",
    "else:\n",
    "  print(delete_book(book_id))"
   ]
  },
  {
   "cell_type": "markdown",
   "metadata": {
    "id": "MIamnChwNgFr"
   },
   "source": [
    "#### Q4: Create a function that displays books information from your library and test it."
   ]
  },
  {
   "cell_type": "code",
   "execution_count": 12,
   "metadata": {
    "id": "xFNIK3YvUbz5"
   },
   "outputs": [
    {
     "name": "stdout",
     "output_type": "stream",
     "text": [
      "Book ID [2, 3, 4, 5, 6, 7, 8, 9, 10, 11, 12, 13, 14, 15, 16]\n",
      "Title [\"Harry Potter and the Sorcerer's Stone\", 'To Kill a Mockingbird', 'The Great Gatsby', '1984', 'The Catcher in the Rye', 'Pride and Prejudice', 'The Hobbit', 'The Hunger Games', 'The Da Vinci Code', 'The Chronicles of Narnia', 'Gone with the Wind', 'Sapiens: A Brief History of Humankind', 'The Road', 'The Girl with the Dragon Tattoo', 'The Alchemist']\n",
      "Author ['J.K. Rowling', 'Harper Lee', 'F. Scott Fitzgerald', 'George Orwell', 'J.D. Salinger', 'Jane Austen', 'J.R.R. Tolkien', 'Suzanne Collins', 'Dan Brown', 'C.S. Lewis', 'Margaret Mitchell', 'Yuval Noah Harari', 'Cormac McCarthy', 'Stieg Larsson', 'Paulo Coelho']\n",
      "Year [1960, 1925, 1949, 1951, 1813, 1937, 2008, 2003, 1950, 1936, 2011, 2006, 2005, 1988, 1988]\n",
      "Genres ['Fantasy, Young Adult', 'Fiction, Classics', 'Fiction, Classics', 'Fiction, Dystopian', 'Fiction, Classics', 'Fiction, Romance, Classics', 'Fantasy, Adventure', 'Science Fiction, Dystopian, Young Adult', 'Mystery, Thriller', \"Fantasy, Children's Literature\", 'Historical Fiction, Romance', 'Nonfiction, History, Science', 'Fiction, Post-Apocalyptic', 'Mystery, Thriller', 'Fiction, Inspirational']\n"
     ]
    }
   ],
   "source": [
    "# write your code here ^_^\n",
    "def display_book():\n",
    "  for keys,values in book_store.items():\n",
    "    print(keys,values)\n",
    "\n",
    "display_book()"
   ]
  },
  {
   "cell_type": "markdown",
   "metadata": {
    "id": "OvfdKdBqNt22"
   },
   "source": [
    "#### Q5: Create functions to do the following: calculates and display the total number of books, the average publication year, and the most common genre. and test it."
   ]
  },
  {
   "cell_type": "code",
   "execution_count": 52,
   "metadata": {
    "id": "mWg5eHIWUcsU"
   },
   "outputs": [
    {
     "name": "stdout",
     "output_type": "stream",
     "text": [
      "16\n",
      "1967\n",
      "Fiction, Classics\n"
     ]
    }
   ],
   "source": [
    "# write your code here ^_^\n",
    "def cale_total_num_of_books():\n",
    "  book_store_length = len(book_store['Book ID'])\n",
    "  return book_store_length\n",
    "\n",
    "def cale_avg_pub_year():\n",
    "  avg_pub_year = sum(book_store['Year'])/len(book_store['Year'])\n",
    "  return(round(avg_pub_year) )\n",
    "\n",
    "def cale_most_common_genre():\n",
    "  most_common_genre = max(set(book_store['Genres']), key=book_store['Genres'].count)\n",
    "  return most_common_genre\n",
    "\n",
    "print(cale_total_num_of_books())\n",
    "print(cale_avg_pub_year())\n",
    "print(cale_most_common_genre())"
   ]
  },
  {
   "cell_type": "markdown",
   "metadata": {
    "id": "IuVLtf7dQaUW"
   },
   "source": [
    "#### Q6: Create 2 functions to search for books by the title and the author from your library and test it."
   ]
  },
  {
   "cell_type": "code",
   "execution_count": 16,
   "metadata": {
    "id": "7LnwRJLCUe3p"
   },
   "outputs": [
    {
     "name": "stdin",
     "output_type": "stream",
     "text": [
      "Please enter the title  greate gatspy\n",
      "Please enter the author  ghada\n"
     ]
    },
    {
     "name": "stdout",
     "output_type": "stream",
     "text": [
      "book not exist\n",
      "None\n",
      "book not exist\n",
      "None\n"
     ]
    }
   ],
   "source": [
    "# write your code here ^_^\n",
    "def search_title(title=None):\n",
    "  for keys,values in book_store.items():\n",
    "    if title in values:\n",
    "      position_of_book = values.index(title)\n",
    "      book_store['Title'][position_of_book]\n",
    "      book_store['Author'][position_of_book]\n",
    "      book_store['Year'][position_of_book]\n",
    "      book_store['Genres'][position_of_book]\n",
    "      return book_store\n",
    "    else:\n",
    "      print(\"book not exist\")\n",
    "      break\n",
    "\n",
    "def search_author(author=None):\n",
    "  for keys,values in book_store.items():\n",
    "    if author in values:\n",
    "      position_of_book = values.index(author)\n",
    "      book_store['Title'][position_of_book]\n",
    "      book_store['Author'][position_of_book]\n",
    "      book_store['Year'][position_of_book]\n",
    "      book_store['Genres'][position_of_book]\n",
    "      return book_store\n",
    "    else:\n",
    "      print(\"book not exist\")\n",
    "      break\n",
    "\n",
    "\n",
    "try:\n",
    " search_title_input = input(\"Please enter the title \")\n",
    " search_author_input = input(\"Please enter the author \")\n",
    " print(search_title(search_title_input))\n",
    " print(search_author(search_author_input))\n",
    "except:\n",
    "  print(\"Please make sure you enter the right information\")"
   ]
  },
  {
   "cell_type": "markdown",
   "metadata": {
    "id": "fAu2ozKBQzJu"
   },
   "source": [
    "#### Q7: Create 2 functions to sort the books by the title and the year from your library and test it."
   ]
  },
  {
   "cell_type": "code",
   "execution_count": 18,
   "metadata": {
    "id": "X4PyuHTMUgHl"
   },
   "outputs": [
    {
     "name": "stdout",
     "output_type": "stream",
     "text": [
      "[{'Book ID': 5, 'Title': '1984', 'Author': 'George Orwell', 'Year': 1951, 'Genres': 'Fiction, Dystopian'}, {'Book ID': 12, 'Title': 'Gone with the Wind', 'Author': 'Margaret Mitchell', 'Year': 2011, 'Genres': 'Historical Fiction, Romance'}, {'Book ID': 2, 'Title': \"Harry Potter and the Sorcerer's Stone\", 'Author': 'J.K. Rowling', 'Year': 1960, 'Genres': 'Fantasy, Young Adult'}, {'Book ID': 7, 'Title': 'Pride and Prejudice', 'Author': 'Jane Austen', 'Year': 1937, 'Genres': 'Fiction, Romance, Classics'}, {'Book ID': 13, 'Title': 'Sapiens: A Brief History of Humankind', 'Author': 'Yuval Noah Harari', 'Year': 2006, 'Genres': 'Nonfiction, History, Science'}, {'Book ID': 16, 'Title': 'The Alchemist', 'Author': 'Paulo Coelho', 'Year': 1988, 'Genres': 'Fiction, Inspirational'}, {'Book ID': 6, 'Title': 'The Catcher in the Rye', 'Author': 'J.D. Salinger', 'Year': 1813, 'Genres': 'Fiction, Classics'}, {'Book ID': 11, 'Title': 'The Chronicles of Narnia', 'Author': 'C.S. Lewis', 'Year': 1936, 'Genres': \"Fantasy, Children's Literature\"}, {'Book ID': 10, 'Title': 'The Da Vinci Code', 'Author': 'Dan Brown', 'Year': 1950, 'Genres': 'Mystery, Thriller'}, {'Book ID': 15, 'Title': 'The Girl with the Dragon Tattoo', 'Author': 'Stieg Larsson', 'Year': 1988, 'Genres': 'Mystery, Thriller'}, {'Book ID': 4, 'Title': 'The Great Gatsby', 'Author': 'F. Scott Fitzgerald', 'Year': 1949, 'Genres': 'Fiction, Classics'}, {'Book ID': 8, 'Title': 'The Hobbit', 'Author': 'J.R.R. Tolkien', 'Year': 2008, 'Genres': 'Fantasy, Adventure'}, {'Book ID': 9, 'Title': 'The Hunger Games', 'Author': 'Suzanne Collins', 'Year': 2003, 'Genres': 'Science Fiction, Dystopian, Young Adult'}, {'Book ID': 14, 'Title': 'The Road', 'Author': 'Cormac McCarthy', 'Year': 2005, 'Genres': 'Fiction, Post-Apocalyptic'}, {'Book ID': 3, 'Title': 'To Kill a Mockingbird', 'Author': 'Harper Lee', 'Year': 1925, 'Genres': 'Fiction, Classics'}] \n",
      "\n",
      "[{'Book ID': 6, 'Title': 'The Catcher in the Rye', 'Author': 'J.D. Salinger', 'Year': 1813, 'Genres': 'Fiction, Classics'}, {'Book ID': 3, 'Title': 'To Kill a Mockingbird', 'Author': 'Harper Lee', 'Year': 1925, 'Genres': 'Fiction, Classics'}, {'Book ID': 11, 'Title': 'The Chronicles of Narnia', 'Author': 'C.S. Lewis', 'Year': 1936, 'Genres': \"Fantasy, Children's Literature\"}, {'Book ID': 7, 'Title': 'Pride and Prejudice', 'Author': 'Jane Austen', 'Year': 1937, 'Genres': 'Fiction, Romance, Classics'}, {'Book ID': 4, 'Title': 'The Great Gatsby', 'Author': 'F. Scott Fitzgerald', 'Year': 1949, 'Genres': 'Fiction, Classics'}, {'Book ID': 10, 'Title': 'The Da Vinci Code', 'Author': 'Dan Brown', 'Year': 1950, 'Genres': 'Mystery, Thriller'}, {'Book ID': 5, 'Title': '1984', 'Author': 'George Orwell', 'Year': 1951, 'Genres': 'Fiction, Dystopian'}, {'Book ID': 2, 'Title': \"Harry Potter and the Sorcerer's Stone\", 'Author': 'J.K. Rowling', 'Year': 1960, 'Genres': 'Fantasy, Young Adult'}, {'Book ID': 15, 'Title': 'The Girl with the Dragon Tattoo', 'Author': 'Stieg Larsson', 'Year': 1988, 'Genres': 'Mystery, Thriller'}, {'Book ID': 16, 'Title': 'The Alchemist', 'Author': 'Paulo Coelho', 'Year': 1988, 'Genres': 'Fiction, Inspirational'}, {'Book ID': 9, 'Title': 'The Hunger Games', 'Author': 'Suzanne Collins', 'Year': 2003, 'Genres': 'Science Fiction, Dystopian, Young Adult'}, {'Book ID': 14, 'Title': 'The Road', 'Author': 'Cormac McCarthy', 'Year': 2005, 'Genres': 'Fiction, Post-Apocalyptic'}, {'Book ID': 13, 'Title': 'Sapiens: A Brief History of Humankind', 'Author': 'Yuval Noah Harari', 'Year': 2006, 'Genres': 'Nonfiction, History, Science'}, {'Book ID': 8, 'Title': 'The Hobbit', 'Author': 'J.R.R. Tolkien', 'Year': 2008, 'Genres': 'Fantasy, Adventure'}, {'Book ID': 12, 'Title': 'Gone with the Wind', 'Author': 'Margaret Mitchell', 'Year': 2011, 'Genres': 'Historical Fiction, Romance'}] \n",
      "\n"
     ]
    }
   ],
   "source": [
    "def sort_books_by_title(book_store):\n",
    "    books = []\n",
    "    num_books = len(book_store['Book ID'])\n",
    "    for i in range(num_books):\n",
    "        book = {}\n",
    "        for key in book_store:\n",
    "            book[key] = book_store[key][i]\n",
    "        books.append(book)\n",
    "    return sorted(books, key=lambda x: x['Title'])\n",
    "\n",
    "print(sort_books_by_title(book_store), \"\\n\")\n",
    "\n",
    "def sort_books_by_year(book_store):\n",
    "    books = []\n",
    "    num_books = len(book_store['Book ID'])\n",
    "    for i in range(num_books):\n",
    "        book = {}\n",
    "        for key in book_store:\n",
    "            book[key] = book_store[key][i]\n",
    "        books.append(book)\n",
    "    return sorted(books, key=lambda x: x['Year'])\n",
    "\n",
    "print(sort_books_by_year(book_store), \"\\n\")"
   ]
  },
  {
   "cell_type": "markdown",
   "metadata": {
    "id": "KiaFO8rdiv4u"
   },
   "source": [
    "#### Q8: Create a function to bulk update genres of books using list comprehension. and test it."
   ]
  },
  {
   "cell_type": "code",
   "execution_count": 44,
   "metadata": {
    "id": "AbvXyE96UhVt"
   },
   "outputs": [
    {
     "name": "stdin",
     "output_type": "stream",
     "text": [
      "please enter the book id which want to update its genres 5\n",
      "please enter the update comedy\n"
     ]
    },
    {
     "name": "stdout",
     "output_type": "stream",
     "text": [
      "['Fantasy, Young Adult', 'comedy', 'Fiction, Classics', 'Fiction, Classics', 'comedy', 'Fiction, Classics', 'interesting', 'Fantasy, Adventure', 'Science Fiction, Dystopian, Young Adult', 'Mystery, Thriller', \"Fantasy, Children's Literature\", 'Historical Fiction, Romance', 'Nonfiction, History, Science', 'Fiction, Post-Apocalyptic', 'Mystery, Thriller', 'Fiction, Inspirational']\n"
     ]
    }
   ],
   "source": [
    "def update_genres():\n",
    "   x= book_store['Genres'] \n",
    "   y=book_store['Book ID'] \n",
    "   z=int(input('please enter the book id which want to update its genres'))\n",
    "   s=input('please enter the update')\n",
    "\n",
    "   update_list=[s for i in book_store['Genres'] if book_store['Book ID'][z-1]==z]\n",
    "   book_store['Genres'][z-1]=update_list[z-1]\n",
    "        \n",
    "            \n",
    "            \n",
    "   return book_store['Genres'] \n",
    "      \n",
    "   \n",
    "print(update_genres() ) \n",
    "\n",
    " "
   ]
  },
  {
   "cell_type": "markdown",
   "metadata": {
    "id": "ZWkmOUNgi6V_"
   },
   "source": [
    "#### Q9: Implement a function to generate a report summarizing the library's statistics, including the total number of books, the number of books by each author, the number of books in each genre, and the oldest and newest books. and test it."
   ]
  },
  {
   "cell_type": "code",
   "execution_count": 53,
   "metadata": {
    "id": "Okjlb9pTUloe"
   },
   "outputs": [
    {
     "name": "stdout",
     "output_type": "stream",
     "text": [
      "Total number of books:\n",
      "16\n",
      "Total number of books by each author:\n",
      "{'v': 2, 'J.K. Rowling': 1, 'Harper Lee': 1, 'F. Scott Fitzgerald': 1, 'George Orwell': 1, 'J.D. Salinger': 1, 'J.R.R. Tolkien': 1, 'Suzanne Collins': 1, 'Dan Brown': 1, 'C.S. Lewis': 1, 'Margaret Mitchell': 1, 'Yuval Noah Harari': 1, 'Cormac McCarthy': 1, 'Stieg Larsson': 1, 'Paulo Coelho': 1}\n",
      "Total number of books in each genre:\n",
      "{'b': 1, 'Fantasy': 3, 'Fiction': 6, 'u': 1, 'Science Fiction': 1, 'Mystery': 2, 'Historical Fiction': 1, 'Nonfiction': 1}\n",
      "The oldest book\n",
      "1813\n",
      "The newest book\n",
      "2011\n"
     ]
    }
   ],
   "source": [
    "# write your code here ^_^\n",
    "def statistics_report():\n",
    "  print(\"Total number of books:\")\n",
    "  print(cale_total_num_of_books())\n",
    "  print(\"Total number of books by each author:\")\n",
    "  count_auther = {author: book_store['Author'].count(author) for author in book_store['Author']}\n",
    "  print(count_auther)\n",
    "  print(\"Total number of books in each genre:\")\n",
    "  spiltted_genres = [genre.split(', ') for genre in book_store['Genres']]\n",
    "  for i in range(len(spiltted_genres)):\n",
    "    spiltted_genres[i] = spiltted_genres[i][0]\n",
    "  count_genrs = {genre: spiltted_genres.count(genre) for genre in spiltted_genres}\n",
    "  print(count_genrs)\n",
    "  print(\"The oldest book\")\n",
    "  oldest_book = min(book_store['Year'])\n",
    "  print(oldest_book)\n",
    "  print(\"The newest book\")\n",
    "  newest_book = max(book_store['Year'])\n",
    "  print(newest_book)\n",
    "statistics_report()"
   ]
  },
  {
   "cell_type": "code",
   "execution_count": null,
   "metadata": {},
   "outputs": [],
   "source": []
  },
  {
   "cell_type": "code",
   "execution_count": null,
   "metadata": {},
   "outputs": [],
   "source": []
  }
 ],
 "metadata": {
  "colab": {
   "provenance": []
  },
  "kernelspec": {
   "display_name": "Python 3 (ipykernel)",
   "language": "python",
   "name": "python3"
  },
  "language_info": {
   "codemirror_mode": {
    "name": "ipython",
    "version": 3
   },
   "file_extension": ".py",
   "mimetype": "text/x-python",
   "name": "python",
   "nbconvert_exporter": "python",
   "pygments_lexer": "ipython3",
   "version": "3.12.4"
  }
 },
 "nbformat": 4,
 "nbformat_minor": 4
}
